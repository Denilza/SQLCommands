{
  "nbformat": 4,
  "nbformat_minor": 0,
  "metadata": {
    "colab": {
      "provenance": [],
      "authorship_tag": "ABX9TyN8ZLB1UWx09sr79yZV4u/c",
      "include_colab_link": true
    },
    "kernelspec": {
      "name": "python3",
      "display_name": "Python 3"
    },
    "language_info": {
      "name": "python"
    }
  },
  "cells": [
    {
      "cell_type": "markdown",
      "metadata": {
        "id": "view-in-github",
        "colab_type": "text"
      },
      "source": [
        "<a href=\"https://colab.research.google.com/github/Denilza/SQLCommands/blob/main/Exercicios_Banco_de_Dados.ipynb\" target=\"_parent\"><img src=\"https://colab.research.google.com/assets/colab-badge.svg\" alt=\"Open In Colab\"/></a>"
      ]
    },
    {
      "cell_type": "code",
      "execution_count": null,
      "metadata": {
        "id": "jnA5EXSYlR0I"
      },
      "outputs": [],
      "source": [
        "import sqlite3"
      ]
    },
    {
      "cell_type": "code",
      "source": [
        "conn = sqlite3.connect(':memory:')  # Banco de dados em memória (temporário)\n",
        "cursor = conn.cursor()"
      ],
      "metadata": {
        "id": "rtQOCwrDlUfX"
      },
      "execution_count": null,
      "outputs": []
    },
    {
      "cell_type": "markdown",
      "source": [
        "1. Crie uma tabela chamada \"alunos\" com os seguintes campos: id\n",
        "(inteiro), nome (texto), idade (inteiro) e curso (texto).\n"
      ],
      "metadata": {
        "id": "oSA6qoJ2lYJj"
      }
    },
    {
      "cell_type": "code",
      "source": [
        "cursor.execute('''\n",
        "CREATE TABLE alunos (\n",
        "    id INTEGER PRIMARY KEY,\n",
        "    nome TEXT,\n",
        "    idade INTEGER,\n",
        "    curso TEXT\n",
        ")\n",
        "''')"
      ],
      "metadata": {
        "colab": {
          "base_uri": "https://localhost:8080/"
        },
        "id": "GoLCEiE8layQ",
        "outputId": "01198726-a331-4cfd-9114-0bc06c98a56f"
      },
      "execution_count": null,
      "outputs": [
        {
          "output_type": "execute_result",
          "data": {
            "text/plain": [
              "<sqlite3.Cursor at 0x799464e33640>"
            ]
          },
          "metadata": {},
          "execution_count": 3
        }
      ]
    },
    {
      "cell_type": "markdown",
      "source": [
        "2. Insira pelo menos 5 registros de alunos na tabela que você criou no\n",
        "exercício anterior."
      ],
      "metadata": {
        "id": "NItdN6zvlgyP"
      }
    },
    {
      "cell_type": "code",
      "source": [
        "alunos_dados = [\n",
        "    (1, 'Elisa', 22, 'Medicina'),\n",
        "    (2, 'Carlos', 25, 'Direito'),\n",
        "    (3, 'Brenda', 45, 'Medicina'),\n",
        "    (4, 'Daniel', 21, 'Letras'),\n",
        "    (5, 'Isa', 36, 'Música'),\n",
        "    (6, 'Pedro', 20, 'Engenharia'),\n",
        "    (7, 'Rick', 31, 'Engenharia')\n",
        "]"
      ],
      "metadata": {
        "id": "eoIXQ5OiljRD"
      },
      "execution_count": null,
      "outputs": []
    },
    {
      "cell_type": "code",
      "source": [
        "cursor.executemany('INSERT INTO alunos VALUES (?, ?, ?, ?)', alunos_dados)\n",
        "conn.commit()"
      ],
      "metadata": {
        "id": "Df-enjp1lp8I"
      },
      "execution_count": null,
      "outputs": []
    },
    {
      "cell_type": "markdown",
      "source": [
        "3. Consultas Básicas\n",
        "Escreva consultas SQL para realizar as seguintes tarefas:\n",
        "a) Selecionar todos os registros da tabela \"alunos\".\n"
      ],
      "metadata": {
        "id": "pPjArtu1nGJL"
      }
    },
    {
      "cell_type": "code",
      "source": [
        "cursor.execute('SELECT * FROM alunos')\n",
        "todos_alunos = cursor.fetchall()"
      ],
      "metadata": {
        "id": "475KBlDfnJQd"
      },
      "execution_count": null,
      "outputs": []
    },
    {
      "cell_type": "code",
      "source": [
        "print(\"Todos os alunos:\", todos_alunos)"
      ],
      "metadata": {
        "colab": {
          "base_uri": "https://localhost:8080/"
        },
        "id": "LY5yTOAhnYrH",
        "outputId": "282e3f58-9b01-45c4-c5f3-c21999b77fbc"
      },
      "execution_count": null,
      "outputs": [
        {
          "output_type": "stream",
          "name": "stdout",
          "text": [
            "Todos os alunos: [(1, 'Elisa', 22, 'Medicina'), (2, 'Carlos', 25, 'Direito'), (3, 'Brenda', 45, 'Medicina'), (4, 'Daniel', 21, 'Letras'), (5, 'Isa', 36, 'Música'), (6, 'Pedro', 20, 'Engenharia'), (7, 'Rick', 31, 'Engenharia')]\n"
          ]
        }
      ]
    },
    {
      "cell_type": "markdown",
      "source": [
        "b) Selecionar o nome e a idade dos alunos com mais de 20 anos."
      ],
      "metadata": {
        "id": "reU2WO02nd2D"
      }
    },
    {
      "cell_type": "code",
      "source": [
        "cursor.execute('SELECT nome, idade FROM alunos WHERE idade > 20')\n",
        "alunos_maiores_20 = cursor.fetchall()"
      ],
      "metadata": {
        "id": "OFyFQ9jxng-G"
      },
      "execution_count": null,
      "outputs": []
    },
    {
      "cell_type": "code",
      "source": [
        "print(\"Alunos com mais de 20 anos:\", alunos_maiores_20)"
      ],
      "metadata": {
        "colab": {
          "base_uri": "https://localhost:8080/"
        },
        "id": "FE8CQGcFnnGf",
        "outputId": "587a9512-0825-4da2-98bf-4bad8ae0981d"
      },
      "execution_count": null,
      "outputs": [
        {
          "output_type": "stream",
          "name": "stdout",
          "text": [
            "Alunos com mais de 20 anos: [('Elisa', 22), ('Carlos', 25), ('Brenda', 45), ('Daniel', 21), ('Isa', 36), ('Rick', 31)]\n"
          ]
        }
      ]
    },
    {
      "cell_type": "markdown",
      "source": [
        "c) Selecionar os alunos do curso de \"Engenharia\" em ordem\n",
        "alfabética."
      ],
      "metadata": {
        "id": "HfIk7NjXnsHa"
      }
    },
    {
      "cell_type": "code",
      "source": [
        "cursor.execute('SELECT nome FROM alunos WHERE curso = \"Engenharia\" ORDER BY nome')\n",
        "alunos_engenharia = cursor.fetchall()"
      ],
      "metadata": {
        "id": "RWwUQfO1nu2L"
      },
      "execution_count": null,
      "outputs": []
    },
    {
      "cell_type": "code",
      "source": [
        "print(\"Alunos de Engenharia em ordem alfabética:\", alunos_engenharia)\n"
      ],
      "metadata": {
        "colab": {
          "base_uri": "https://localhost:8080/"
        },
        "id": "6Da4Jakjnzlr",
        "outputId": "1cae7a78-7926-4580-9146-ee8b91cfbab6"
      },
      "execution_count": null,
      "outputs": [
        {
          "output_type": "stream",
          "name": "stdout",
          "text": [
            "Alunos de Engenharia em ordem alfabética: [('Pedro',), ('Rick',)]\n"
          ]
        }
      ]
    },
    {
      "cell_type": "markdown",
      "source": [
        "d) Contar o número total de alunos na tabela"
      ],
      "metadata": {
        "id": "6c03WOp-n5Ah"
      }
    },
    {
      "cell_type": "code",
      "source": [
        "cursor.execute('SELECT COUNT(*) FROM alunos')\n",
        "total_alunos = cursor.fetchone()[0]"
      ],
      "metadata": {
        "id": "0ZPC7oE2n8ge"
      },
      "execution_count": null,
      "outputs": []
    },
    {
      "cell_type": "code",
      "source": [
        "print(\"Número total de alunos:\", total_alunos)"
      ],
      "metadata": {
        "colab": {
          "base_uri": "https://localhost:8080/"
        },
        "id": "xPsUxyQQoA0U",
        "outputId": "83e83999-e4b7-4e7a-9ac9-14fbcdfcc793"
      },
      "execution_count": null,
      "outputs": [
        {
          "output_type": "stream",
          "name": "stdout",
          "text": [
            "Número total de alunos: 7\n"
          ]
        }
      ]
    },
    {
      "cell_type": "markdown",
      "source": [
        "4. Atualização e Remoção"
      ],
      "metadata": {
        "id": "5Rf2jG7SoyVE"
      }
    },
    {
      "cell_type": "code",
      "source": [
        "#a) Atualize a idade de um aluno específico na tabela.\n"
      ],
      "metadata": {
        "id": "K6sDq6ERozBB"
      },
      "execution_count": null,
      "outputs": []
    },
    {
      "cell_type": "code",
      "source": [
        "cursor.execute('UPDATE alunos SET idade = 32 WHERE nome = \"Elisa\"')\n",
        "conn.commit()"
      ],
      "metadata": {
        "id": "9RMnyegGo4Kb"
      },
      "execution_count": null,
      "outputs": []
    },
    {
      "cell_type": "code",
      "source": [
        "cursor.execute('SELECT * FROM alunos WHERE nome = \"Elisa\"')\n",
        "aluno_atualizado = cursor.fetchone()"
      ],
      "metadata": {
        "id": "i1V9GR25pJVy"
      },
      "execution_count": null,
      "outputs": []
    },
    {
      "cell_type": "code",
      "source": [
        "print(\"Aluno atualizado:\", aluno_atualizado)"
      ],
      "metadata": {
        "colab": {
          "base_uri": "https://localhost:8080/"
        },
        "id": "XJOE3jZ5pPK6",
        "outputId": "b45c1714-6631-4beb-b8ab-c7d5cf35d93d"
      },
      "execution_count": null,
      "outputs": [
        {
          "output_type": "stream",
          "name": "stdout",
          "text": [
            "Aluno atualizado: (1, 'Elisa', 32, 'Medicina')\n"
          ]
        }
      ]
    },
    {
      "cell_type": "code",
      "source": [
        "#b)Remova um aluno pelo seu ID.\n",
        "cursor.execute('DELETE FROM alunos WHERE id = 2')\n",
        "conn.commit()"
      ],
      "metadata": {
        "id": "B6_1sAOwpusj"
      },
      "execution_count": null,
      "outputs": []
    },
    {
      "cell_type": "code",
      "source": [
        "cursor.execute('SELECT * FROM alunos')\n",
        "todos_alunos_pos_remocao = cursor.fetchall()"
      ],
      "metadata": {
        "id": "bFZ8rOX1p1dj"
      },
      "execution_count": null,
      "outputs": []
    },
    {
      "cell_type": "code",
      "source": [
        "print(\"Alunos após remoção:\", todos_alunos_pos_remocao)"
      ],
      "metadata": {
        "colab": {
          "base_uri": "https://localhost:8080/"
        },
        "id": "5CjtSMhUp5hC",
        "outputId": "43d76418-3c0a-45b3-d14e-91a9f73518c1"
      },
      "execution_count": null,
      "outputs": [
        {
          "output_type": "stream",
          "name": "stdout",
          "text": [
            "Alunos após remoção: [(1, 'Elisa', 32, 'Medicina'), (3, 'Brenda', 45, 'Medicina'), (4, 'Daniel', 21, 'Letras'), (5, 'Isa', 36, 'Música'), (6, 'Pedro', 20, 'Engenharia'), (7, 'Rick', 31, 'Engenharia')]\n"
          ]
        }
      ]
    },
    {
      "cell_type": "markdown",
      "source": [
        "5. Criar uma Tabela e Inserir Dados"
      ],
      "metadata": {
        "id": "HI1o86znp-VY"
      }
    },
    {
      "cell_type": "code",
      "source": [
        "cursor.execute('''\n",
        "CREATE TABLE clientes (\n",
        "    id INTEGER PRIMARY KEY,\n",
        "    nome TEXT,\n",
        "    idade INTEGER,\n",
        "    saldo REAL\n",
        ")\n",
        "''')"
      ],
      "metadata": {
        "colab": {
          "base_uri": "https://localhost:8080/"
        },
        "id": "a4iBc0QWqTD1",
        "outputId": "7cef2c5c-282d-47fb-b0c3-e569a113cd5f"
      },
      "execution_count": null,
      "outputs": [
        {
          "output_type": "execute_result",
          "data": {
            "text/plain": [
              "<sqlite3.Cursor at 0x799464e33640>"
            ]
          },
          "metadata": {},
          "execution_count": 24
        }
      ]
    },
    {
      "cell_type": "code",
      "source": [
        "clientes_dados = [\n",
        "    (1, 'Carlos', 35, 1200.50),\n",
        "    (2, 'Fernanda', 28, 800.00),\n",
        "    (3, 'Marcos', 40, 1500.75),\n",
        "    (4, 'Ana', 32, 950.00),\n",
        "    (5, 'Lucas', 29, 450.25)\n",
        "]"
      ],
      "metadata": {
        "id": "22P_kZbEqUOy"
      },
      "execution_count": null,
      "outputs": []
    },
    {
      "cell_type": "code",
      "source": [
        "cursor.executemany('INSERT INTO clientes VALUES (?, ?, ?, ?)', clientes_dados)\n",
        "conn.commit()"
      ],
      "metadata": {
        "id": "eaXI1YZEqZmh"
      },
      "execution_count": null,
      "outputs": []
    },
    {
      "cell_type": "markdown",
      "source": [
        "6. Consultas e Funções Agregadas\n",
        "Escreva consultas SQL para realizar as seguintes tarefas:\n"
      ],
      "metadata": {
        "id": "_l1YEdWfq2Dz"
      }
    },
    {
      "cell_type": "code",
      "source": [
        "#a) Selecione o nome e a idade dos clientes com idade superior a 30 anos.\n",
        "cursor.execute('SELECT nome, idade FROM clientes WHERE idade > 30')\n",
        "clientes_maiores_30 = cursor.fetchall()"
      ],
      "metadata": {
        "id": "5z7VXyx3q3hL"
      },
      "execution_count": null,
      "outputs": []
    },
    {
      "cell_type": "code",
      "source": [
        "print(\"Clientes com mais de 30 anos:\", clientes_maiores_30)"
      ],
      "metadata": {
        "colab": {
          "base_uri": "https://localhost:8080/"
        },
        "id": "_DlssV2WrDYg",
        "outputId": "fdc6074d-b9ad-4ae0-9288-1f2aa13308b8"
      },
      "execution_count": null,
      "outputs": [
        {
          "output_type": "stream",
          "name": "stdout",
          "text": [
            "Clientes com mais de 30 anos: [('Carlos', 35), ('Marcos', 40), ('Ana', 32)]\n"
          ]
        }
      ]
    },
    {
      "cell_type": "code",
      "source": [
        "#b) Calcule o saldo médio dos clientes.\n",
        "cursor.execute('SELECT AVG(saldo) FROM clientes')\n",
        "saldo_medio = cursor.fetchone()[0]"
      ],
      "metadata": {
        "id": "FHsFedaerJrT"
      },
      "execution_count": null,
      "outputs": []
    },
    {
      "cell_type": "code",
      "source": [
        "print(\"Saldo médio dos clientes:\", saldo_medio)"
      ],
      "metadata": {
        "colab": {
          "base_uri": "https://localhost:8080/"
        },
        "id": "HDap_s0irS22",
        "outputId": "412fdbf0-1ff0-410b-f94e-2f9aa83d1ca7"
      },
      "execution_count": null,
      "outputs": [
        {
          "output_type": "stream",
          "name": "stdout",
          "text": [
            "Saldo médio dos clientes: 980.3\n"
          ]
        }
      ]
    },
    {
      "cell_type": "code",
      "source": [
        "#c) Encontre o cliente com o saldo máximo\n",
        "cursor.execute('SELECT nome, saldo FROM clientes ORDER BY saldo DESC LIMIT 1')\n",
        "cliente_saldo_max = cursor.fetchone()"
      ],
      "metadata": {
        "id": "LzOW96x2rc6O"
      },
      "execution_count": null,
      "outputs": []
    },
    {
      "cell_type": "code",
      "source": [
        "print(\"Cliente com saldo máximo:\", cliente_saldo_max)"
      ],
      "metadata": {
        "colab": {
          "base_uri": "https://localhost:8080/"
        },
        "id": "M3u-iwb9rkNV",
        "outputId": "163d71d0-2c4e-4da9-e724-be1afdefbf55"
      },
      "execution_count": null,
      "outputs": [
        {
          "output_type": "stream",
          "name": "stdout",
          "text": [
            "Cliente com saldo máximo: ('Marcos', 1500.75)\n"
          ]
        }
      ]
    },
    {
      "cell_type": "code",
      "source": [
        "# d) Conte quantos clientes têm saldo acima de 1000\n",
        "cursor.execute('SELECT COUNT(*) FROM clientes WHERE saldo > 1000')\n",
        "clientes_acima_1000 = cursor.fetchone()[0]"
      ],
      "metadata": {
        "id": "Lb5SS84PrqlB"
      },
      "execution_count": null,
      "outputs": []
    },
    {
      "cell_type": "code",
      "source": [
        "print(\"Número de clientes com saldo acima de 1000:\", clientes_acima_1000)"
      ],
      "metadata": {
        "colab": {
          "base_uri": "https://localhost:8080/"
        },
        "id": "rHj8DVrnrreP",
        "outputId": "a7b184f9-19f2-4c54-dca8-d18c086a79a9"
      },
      "execution_count": null,
      "outputs": [
        {
          "output_type": "stream",
          "name": "stdout",
          "text": [
            "Número de clientes com saldo acima de 1000: 2\n"
          ]
        }
      ]
    },
    {
      "cell_type": "markdown",
      "source": [
        "7. Atualização e Remoção com Condições"
      ],
      "metadata": {
        "id": "2QmsK3rvr1IR"
      }
    },
    {
      "cell_type": "code",
      "source": [
        "# a) Atualize o saldo de um cliente específico\n",
        "cursor.execute('UPDATE clientes SET saldo = 1600.00 WHERE nome = \"Marcos\"')\n",
        "conn.commit()"
      ],
      "metadata": {
        "id": "TB_IBbeYr2Jw"
      },
      "execution_count": null,
      "outputs": []
    },
    {
      "cell_type": "code",
      "source": [
        "cursor.execute('SELECT * FROM clientes WHERE nome = \"Marcos\"')\n",
        "cliente_atualizado = cursor.fetchone()"
      ],
      "metadata": {
        "id": "XYwTLx9Or7pN"
      },
      "execution_count": null,
      "outputs": []
    },
    {
      "cell_type": "code",
      "source": [
        "print(\"Cliente atualizado:\", cliente_atualizado)"
      ],
      "metadata": {
        "colab": {
          "base_uri": "https://localhost:8080/"
        },
        "id": "XZIbu-QAsBBa",
        "outputId": "f834f2ce-e51c-4993-fd36-9ef0429dd283"
      },
      "execution_count": null,
      "outputs": [
        {
          "output_type": "stream",
          "name": "stdout",
          "text": [
            "Cliente atualizado: (3, 'Marcos', 40, 1600.0)\n"
          ]
        }
      ]
    },
    {
      "cell_type": "code",
      "source": [
        "#b) Remova um cliente pelo seu ID.\n",
        "cursor.execute('DELETE FROM clientes WHERE id = 5')\n",
        "conn.commit()\n"
      ],
      "metadata": {
        "id": "tnbRZ0-qsG2e"
      },
      "execution_count": null,
      "outputs": []
    },
    {
      "cell_type": "code",
      "source": [
        "cursor.execute('SELECT * FROM clientes')\n",
        "todos_clientes_pos_remocao = cursor.fetchall()"
      ],
      "metadata": {
        "id": "g7h5DjoZsL2p"
      },
      "execution_count": null,
      "outputs": []
    },
    {
      "cell_type": "code",
      "source": [
        "print(\"Clientes após remoção:\", todos_clientes_pos_remocao)"
      ],
      "metadata": {
        "colab": {
          "base_uri": "https://localhost:8080/"
        },
        "id": "vrxUtGvIsO7R",
        "outputId": "3732d185-919c-482a-d460-7590b5cf67f5"
      },
      "execution_count": null,
      "outputs": [
        {
          "output_type": "stream",
          "name": "stdout",
          "text": [
            "Clientes após remoção: [(1, 'Carlos', 35, 1200.5), (2, 'Fernanda', 28, 800.0), (3, 'Marcos', 40, 1600.0), (4, 'Ana', 32, 950.0)]\n"
          ]
        }
      ]
    },
    {
      "cell_type": "markdown",
      "source": [
        "8. Junção de Tabelas\n",
        "Crie uma segunda tabela chamada \"compras\" com os campos: id\n",
        "(chave primária), cliente_id (chave estrangeira referenciando o id\n",
        "da tabela \"clientes\"), produto (texto) e valor (real). Insira algumas\n",
        "compras associadas a clientes existentes na tabela \"clientes\".\n",
        "Escreva uma consulta para exibir o nome do cliente, o produto e o\n",
        "valor de cada compra."
      ],
      "metadata": {
        "id": "TsI-8OGMsbqk"
      }
    },
    {
      "cell_type": "code",
      "source": [
        "cursor.execute('''\n",
        "CREATE TABLE compras (\n",
        "    id INTEGER PRIMARY KEY,\n",
        "    cliente_id INTEGER,\n",
        "    produto TEXT,\n",
        "    valor REAL,\n",
        "    FOREIGN KEY(cliente_id) REFERENCES clientes(id)\n",
        ")\n",
        "''')"
      ],
      "metadata": {
        "colab": {
          "base_uri": "https://localhost:8080/"
        },
        "id": "qGut0g8nsdGn",
        "outputId": "26b98c23-b03a-456d-9a38-986d07dcce5f"
      },
      "execution_count": null,
      "outputs": [
        {
          "output_type": "execute_result",
          "data": {
            "text/plain": [
              "<sqlite3.Cursor at 0x799464e33640>"
            ]
          },
          "metadata": {},
          "execution_count": 41
        }
      ]
    },
    {
      "cell_type": "code",
      "source": [
        "compras_dados = [\n",
        "    (1, 1, 'Notebook', 2500.00),\n",
        "    (2, 3, 'Smartphone', 1200.00),\n",
        "    (3, 2, 'Tablet', 800.00)\n",
        "]"
      ],
      "metadata": {
        "id": "0TrifRb9si0A"
      },
      "execution_count": null,
      "outputs": []
    },
    {
      "cell_type": "code",
      "source": [
        "cursor.executemany('INSERT INTO compras VALUES (?, ?, ?, ?)', compras_dados)\n",
        "conn.commit()\n"
      ],
      "metadata": {
        "id": "dARhn3BQsmmC"
      },
      "execution_count": null,
      "outputs": []
    },
    {
      "cell_type": "code",
      "source": [
        "cursor.execute('''\n",
        "SELECT clientes.nome, compras.produto, compras.valor\n",
        "FROM compras\n",
        "JOIN clientes ON compras.cliente_id = clientes.id\n",
        "''')"
      ],
      "metadata": {
        "colab": {
          "base_uri": "https://localhost:8080/"
        },
        "id": "W3E_r-rqssUE",
        "outputId": "2a46c782-ea0d-4be1-d942-8382403ac994"
      },
      "execution_count": null,
      "outputs": [
        {
          "output_type": "execute_result",
          "data": {
            "text/plain": [
              "<sqlite3.Cursor at 0x799464e33640>"
            ]
          },
          "metadata": {},
          "execution_count": 44
        }
      ]
    },
    {
      "cell_type": "code",
      "source": [
        "compras_completo = cursor.fetchall()\n",
        "print(\"Nome do cliente, produto e valor de cada compra:\", compras_completo)"
      ],
      "metadata": {
        "id": "Ad524qL6swtX",
        "outputId": "29bce6ab-86c5-49de-aeda-03a0db9be0db",
        "colab": {
          "base_uri": "https://localhost:8080/"
        }
      },
      "execution_count": null,
      "outputs": [
        {
          "output_type": "stream",
          "name": "stdout",
          "text": [
            "Nome do cliente, produto e valor de cada compra: [('Carlos', 'Notebook', 2500.0), ('Marcos', 'Smartphone', 1200.0), ('Fernanda', 'Tablet', 800.0)]\n"
          ]
        }
      ]
    }
  ]
}